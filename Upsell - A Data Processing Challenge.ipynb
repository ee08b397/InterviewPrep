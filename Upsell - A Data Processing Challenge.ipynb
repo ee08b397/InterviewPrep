{
 "cells": [
  {
   "cell_type": "markdown",
   "metadata": {},
   "source": [
    "### 1. Read Data into DataFrames!"
   ]
  },
  {
   "cell_type": "code",
   "execution_count": 1,
   "metadata": {
    "collapsed": false
   },
   "outputs": [],
   "source": [
    "import pandas as pd\n",
    "from pandasql import *"
   ]
  },
  {
   "cell_type": "code",
   "execution_count": 2,
   "metadata": {
    "collapsed": false
   },
   "outputs": [
    {
     "name": "stdout",
     "output_type": "stream",
     "text": [
      "total 32420\r\n",
      "-rw-r----- 1 kevin kevin    37514 Jan  4 19:33 donotcall.csv\r\n",
      "-rw-r----- 1 kevin kevin    37514 Jan  4 19:10 donotcall.txt\r\n",
      "-rw-rw-r-- 1 kevin kevin    63605 Jan  5 16:56 top1000_transactions_2015.csv\r\n",
      "-rw-r----- 1 kevin kevin 14638824 Jan  4 19:33 transactions.csv\r\n",
      "-rw-r----- 1 kevin kevin 14638824 Jan  4 19:11 transactions.txt\r\n",
      "-rw-r----- 1 kevin kevin  1877331 Jan  4 19:32 users.csv\r\n",
      "-rw-r----- 1 kevin kevin  1877331 Jan  4 19:11 users.txt\r\n"
     ]
    }
   ],
   "source": [
    "!ls -l upsell"
   ]
  },
  {
   "cell_type": "code",
   "execution_count": 3,
   "metadata": {
    "collapsed": false
   },
   "outputs": [
    {
     "name": "stderr",
     "output_type": "stream",
     "text": [
      "Skipping line 2079: expected 4 fields, saw 6\n",
      "Skipping line 5920: expected 4 fields, saw 6\n",
      "Skipping line 9348: expected 4 fields, saw 6\n",
      "Skipping line 10764: expected 4 fields, saw 7\n",
      "Skipping line 15949: expected 4 fields, saw 6\n",
      "Skipping line 15995: expected 4 fields, saw 7\n",
      "Skipping line 16549: expected 4 fields, saw 7\n",
      "Skipping line 18485: expected 4 fields, saw 6\n",
      "Skipping line 21644: expected 4 fields, saw 7\n",
      "Skipping line 21845: expected 4 fields, saw 6\n",
      "Skipping line 23356: expected 4 fields, saw 6\n",
      "\n"
     ]
    }
   ],
   "source": [
    "users_df = pd.read_csv('upsell/users.txt', sep=';', header=True,\n",
    "                       error_bad_lines=False,\n",
    "                       names=['Customer_ID', 'name', 'emails', 'phone'])"
   ]
  },
  {
   "cell_type": "markdown",
   "metadata": {},
   "source": [
    "##### Correct the Bad Lines in Data"
   ]
  },
  {
   "cell_type": "code",
   "execution_count": 4,
   "metadata": {
    "collapsed": false
   },
   "outputs": [
    {
     "data": {
      "text/html": [
       "<div>\n",
       "<table border=\"1\" class=\"dataframe\">\n",
       "  <thead>\n",
       "    <tr style=\"text-align: right;\">\n",
       "      <th></th>\n",
       "      <th>Customer_ID</th>\n",
       "      <th>name</th>\n",
       "      <th>emails</th>\n",
       "      <th>phone</th>\n",
       "    </tr>\n",
       "  </thead>\n",
       "  <tbody>\n",
       "    <tr>\n",
       "      <th>0</th>\n",
       "      <td>1290614884</td>\n",
       "      <td>Alain Hennesey</td>\n",
       "      <td>alain.hennesey@facebook.com,alain.hennesey@me.com</td>\n",
       "      <td>(942) 208-8460,(801) 938-2376</td>\n",
       "    </tr>\n",
       "    <tr>\n",
       "      <th>1</th>\n",
       "      <td>1700818057</td>\n",
       "      <td>Hamed Fingerhuth</td>\n",
       "      <td>hamed.fingerhuth@msn.com,hamed.fingerhuth@me.com</td>\n",
       "      <td>NaN</td>\n",
       "    </tr>\n",
       "    <tr>\n",
       "      <th>2</th>\n",
       "      <td>17378782</td>\n",
       "      <td>Annamae Leyte</td>\n",
       "      <td>annamae.leyte@msn.com,annamae.leyte@facebook.com</td>\n",
       "      <td>NaN</td>\n",
       "    </tr>\n",
       "    <tr>\n",
       "      <th>3</th>\n",
       "      <td>1723254379</td>\n",
       "      <td>Chao Peachy</td>\n",
       "      <td>chao.peachy@me.com,chao.peachy@gmail.com</td>\n",
       "      <td>(510) 121-0098</td>\n",
       "    </tr>\n",
       "    <tr>\n",
       "      <th>4</th>\n",
       "      <td>1946358537</td>\n",
       "      <td>Somtochukwu Mouritsen</td>\n",
       "      <td>somtochukwu.mouritsen@me.com</td>\n",
       "      <td>(669) 504-8080</td>\n",
       "    </tr>\n",
       "  </tbody>\n",
       "</table>\n",
       "</div>"
      ],
      "text/plain": [
       "  Customer_ID                   name  \\\n",
       "0  1290614884         Alain Hennesey   \n",
       "1  1700818057       Hamed Fingerhuth   \n",
       "2    17378782          Annamae Leyte   \n",
       "3  1723254379            Chao Peachy   \n",
       "4  1946358537  Somtochukwu Mouritsen   \n",
       "\n",
       "                                              emails  \\\n",
       "0  alain.hennesey@facebook.com,alain.hennesey@me.com   \n",
       "1   hamed.fingerhuth@msn.com,hamed.fingerhuth@me.com   \n",
       "2   annamae.leyte@msn.com,annamae.leyte@facebook.com   \n",
       "3           chao.peachy@me.com,chao.peachy@gmail.com   \n",
       "4                       somtochukwu.mouritsen@me.com   \n",
       "\n",
       "                           phone  \n",
       "0  (942) 208-8460,(801) 938-2376  \n",
       "1                            NaN  \n",
       "2                            NaN  \n",
       "3                 (510) 121-0098  \n",
       "4                 (669) 504-8080  "
      ]
     },
     "execution_count": 4,
     "metadata": {},
     "output_type": "execute_result"
    }
   ],
   "source": [
    "badlinesnumbers = [2079,5920,9348,10764,15949,\n",
    "                   15995,16549,18485,21644,21845,23356]\n",
    "\n",
    "with open('upsell/users.txt') as f:\n",
    "    badlines_indices = set(map(lambda x : x - 1, badlinesnumbers))\n",
    "    i = 0\n",
    "    \n",
    "    for line in f:\n",
    "        if i in badlines_indices:\n",
    "            data = line.strip().split(';')\n",
    "            data = {'Customer_ID': data[0],\n",
    "                   'name': data[1],\n",
    "                   'emails': data[2:-1],\n",
    "                   'phone': data[-1]}\n",
    "            users_df.loc[i] = list([data['Customer_ID'], data['name'], ', '.join(data['emails']), data['phone']])\n",
    "            \n",
    "        i += 1    \n",
    "        \n",
    "users_df.head()"
   ]
  },
  {
   "cell_type": "code",
   "execution_count": 5,
   "metadata": {
    "collapsed": false
   },
   "outputs": [
    {
     "data": {
      "text/html": [
       "<div>\n",
       "<table border=\"1\" class=\"dataframe\">\n",
       "  <thead>\n",
       "    <tr style=\"text-align: right;\">\n",
       "      <th></th>\n",
       "      <th>Customer_ID</th>\n",
       "      <th>transaction_amount</th>\n",
       "      <th>transaction_date</th>\n",
       "    </tr>\n",
       "  </thead>\n",
       "  <tbody>\n",
       "    <tr>\n",
       "      <th>0</th>\n",
       "      <td>815581247</td>\n",
       "      <td>$144.82</td>\n",
       "      <td>2015-09-05</td>\n",
       "    </tr>\n",
       "    <tr>\n",
       "      <th>1</th>\n",
       "      <td>1534673027</td>\n",
       "      <td>$140.93</td>\n",
       "      <td>2014-03-11</td>\n",
       "    </tr>\n",
       "    <tr>\n",
       "      <th>2</th>\n",
       "      <td>842468364</td>\n",
       "      <td>$104.26</td>\n",
       "      <td>2014-05-06</td>\n",
       "    </tr>\n",
       "    <tr>\n",
       "      <th>3</th>\n",
       "      <td>1720001139</td>\n",
       "      <td>$194.60</td>\n",
       "      <td>2015-08-24</td>\n",
       "    </tr>\n",
       "    <tr>\n",
       "      <th>4</th>\n",
       "      <td>1397891675</td>\n",
       "      <td>$307.72</td>\n",
       "      <td>2015-09-25</td>\n",
       "    </tr>\n",
       "  </tbody>\n",
       "</table>\n",
       "</div>"
      ],
      "text/plain": [
       "   Customer_ID transaction_amount transaction_date\n",
       "0    815581247            $144.82       2015-09-05\n",
       "1   1534673027            $140.93       2014-03-11\n",
       "2    842468364            $104.26       2014-05-06\n",
       "3   1720001139            $194.60       2015-08-24\n",
       "4   1397891675            $307.72       2015-09-25"
      ]
     },
     "execution_count": 5,
     "metadata": {},
     "output_type": "execute_result"
    }
   ],
   "source": [
    "transactions_df = pd.read_csv('upsell/transactions.txt', sep=';',\n",
    "                              error_bad_lines=False,\n",
    "                              names=['Customer_ID',\n",
    "                                     'transaction_amount',\n",
    "                                     'transaction_date'])\n",
    "transactions_df.head()"
   ]
  },
  {
   "cell_type": "code",
   "execution_count": 6,
   "metadata": {
    "collapsed": false
   },
   "outputs": [
    {
     "data": {
      "text/html": [
       "<div>\n",
       "<table border=\"1\" class=\"dataframe\">\n",
       "  <thead>\n",
       "    <tr style=\"text-align: right;\">\n",
       "      <th></th>\n",
       "      <th>number</th>\n",
       "    </tr>\n",
       "  </thead>\n",
       "  <tbody>\n",
       "    <tr>\n",
       "      <th>0</th>\n",
       "      <td>(533) 072-2779</td>\n",
       "    </tr>\n",
       "    <tr>\n",
       "      <th>1</th>\n",
       "      <td>(942) 208-8460</td>\n",
       "    </tr>\n",
       "    <tr>\n",
       "      <th>2</th>\n",
       "      <td>(801) 938-2376</td>\n",
       "    </tr>\n",
       "    <tr>\n",
       "      <th>3</th>\n",
       "      <td>(510) 121-0098</td>\n",
       "    </tr>\n",
       "    <tr>\n",
       "      <th>4</th>\n",
       "      <td>(669) 504-8080</td>\n",
       "    </tr>\n",
       "  </tbody>\n",
       "</table>\n",
       "</div>"
      ],
      "text/plain": [
       "           number\n",
       "0  (533) 072-2779\n",
       "1  (942) 208-8460\n",
       "2  (801) 938-2376\n",
       "3  (510) 121-0098\n",
       "4  (669) 504-8080"
      ]
     },
     "execution_count": 6,
     "metadata": {},
     "output_type": "execute_result"
    }
   ],
   "source": [
    "dnc_df = pd.read_csv('upsell/donotcall.txt', names=['number'])\n",
    "dnc_df.head()"
   ]
  },
  {
   "cell_type": "markdown",
   "metadata": {},
   "source": [
    "### Simple Count"
   ]
  },
  {
   "cell_type": "code",
   "execution_count": 7,
   "metadata": {
    "collapsed": false
   },
   "outputs": [
    {
     "name": "stdout",
     "output_type": "stream",
     "text": [
      "24987 500000 2501\n"
     ]
    }
   ],
   "source": [
    "print len(users_df), len(transactions_df), len(dnc_df)"
   ]
  },
  {
   "cell_type": "markdown",
   "metadata": {},
   "source": [
    "### Verify Phone Number Data Format"
   ]
  },
  {
   "cell_type": "markdown",
   "metadata": {},
   "source": [
    "Q: Do all our numbers in the DNC list have the form (xxx) xxx-xxxx ?\n",
    "\n",
    "A: they have lengths of 14 characters, but do they have the form (xxx) xxx-xxx ?"
   ]
  },
  {
   "cell_type": "code",
   "execution_count": 8,
   "metadata": {
    "collapsed": false
   },
   "outputs": [
    {
     "data": {
      "text/plain": [
       "(array([], dtype=int64),)"
      ]
     },
     "execution_count": 8,
     "metadata": {},
     "output_type": "execute_result"
    }
   ],
   "source": [
    "phone_number_lengths = dnc_df.number.apply(lambda phone_number : len(phone_number))\n",
    "(phone_number_lengths - phone_number_lengths[0]).nonzero()"
   ]
  },
  {
   "cell_type": "code",
   "execution_count": 9,
   "metadata": {
    "collapsed": false
   },
   "outputs": [
    {
     "data": {
      "text/plain": [
       "True"
      ]
     },
     "execution_count": 9,
     "metadata": {},
     "output_type": "execute_result"
    }
   ],
   "source": [
    "import re\n",
    "\n",
    "phone_number_pattern = re.compile(\"\\([0-9]{3}\\) [0-9]{3}-[0-9]{4}\")\n",
    "\n",
    "def is_valid_phone_number(phone_number_string):\n",
    "    return not (phone_number_pattern.match(phone_number_string) is None)\n",
    "\n",
    "phone_numbers_validity = dnc_df.number.apply(is_valid_phone_number)\n",
    "phone_numbers_validity.all()"
   ]
  },
  {
   "cell_type": "markdown",
   "metadata": {},
   "source": [
    "Q: Do all our numbers in the DNC list have the form (xxx) xxx-xxxx ?\n",
    "\n",
    "A: Yes!"
   ]
  },
  {
   "cell_type": "markdown",
   "metadata": {},
   "source": [
    "### 2. Conduct Analysis!\n",
    "\n",
    "##### * Objective: We wish to contact users using phone numbers that are not in the do not call list"
   ]
  },
  {
   "cell_type": "code",
   "execution_count": 10,
   "metadata": {
    "collapsed": false
   },
   "outputs": [
    {
     "data": {
      "text/plain": [
       "0    [(942) 208-8460, (801) 938-2376]\n",
       "1                               [nan]\n",
       "2                               [nan]\n",
       "3                    [(510) 121-0098]\n",
       "4                    [(669) 504-8080]\n",
       "Name: phone, dtype: object"
      ]
     },
     "execution_count": 10,
     "metadata": {},
     "output_type": "execute_result"
    }
   ],
   "source": [
    "def phone_list_string_to_list(phone_list_string):\n",
    "    return str(phone_list_string).split(',')\n",
    "\n",
    "users_df.phone = users_df.phone.apply(phone_list_string_to_list)\n",
    "users_df.phone.head()"
   ]
  },
  {
   "cell_type": "markdown",
   "metadata": {},
   "source": [
    "* remember to format the matching numbers in DNC list"
   ]
  },
  {
   "cell_type": "code",
   "execution_count": 11,
   "metadata": {
    "collapsed": false
   },
   "outputs": [
    {
     "data": {
      "text/plain": [
       "True"
      ]
     },
     "execution_count": 11,
     "metadata": {},
     "output_type": "execute_result"
    }
   ],
   "source": [
    "def validate_format_for_phone_number_string_list(phone_number_string_list):\n",
    "    if not phone_number_string_list or set(['', 'nan']) & set(phone_number_string_list):\n",
    "        return True # no phone number\n",
    "    \n",
    "    return pd.Series([is_valid_phone_number(x) for x in phone_number_string_list]).all()\n",
    "\n",
    "is_valid_phone_number_format = users_df.phone.apply(validate_format_for_phone_number_string_list)\n",
    "is_valid_phone_number_format.all()"
   ]
  },
  {
   "cell_type": "markdown",
   "metadata": {},
   "source": [
    "Q: Do all our numbers in the users dataframe have the form (xxx) xxx-xxxx ?\n",
    "\n",
    "A: Yes!"
   ]
  },
  {
   "cell_type": "code",
   "execution_count": 12,
   "metadata": {
    "collapsed": false
   },
   "outputs": [],
   "source": [
    "dnc_set = set([])\n",
    "\n",
    "for phone_number_list in dnc_df.values:\n",
    "    for phone_number in phone_number_list:\n",
    "        dnc_set.add(phone_number)\n",
    "        \n",
    "def is_not_in_dnc_list(phone_number):\n",
    "    return not (phone_number in dnc_set)"
   ]
  },
  {
   "cell_type": "code",
   "execution_count": 13,
   "metadata": {
    "collapsed": true
   },
   "outputs": [],
   "source": [
    "def is_prospective_candidate(phone_number_list):\n",
    "    return pd.Series([is_not_in_dnc_list(phone_number) for phone_number in phone_number_list]).all()\n",
    "\n",
    "prospective_users_df = users_df[users_df.phone.apply(is_prospective_candidate)]"
   ]
  },
  {
   "cell_type": "markdown",
   "metadata": {},
   "source": [
    "The selection of the top 1000 users should include the following steps:\n",
    "\n",
    "1. Selecting the top users based on highest transaction amount for year 2015\n",
    "2. Save the campaign in a file using the following structure:\n",
    "Customer ID, Customer name, phone list that can be used to contact the user, total transaction amount"
   ]
  },
  {
   "cell_type": "code",
   "execution_count": 32,
   "metadata": {
    "collapsed": false
   },
   "outputs": [],
   "source": [
    "transactions_df['transaction_amount_float'] = transactions_df['transaction_amount'].\\\n",
    "                                              apply(lambda price_str : float(price_str.strip('$')))"
   ]
  },
  {
   "cell_type": "code",
   "execution_count": 25,
   "metadata": {
    "collapsed": false
   },
   "outputs": [],
   "source": [
    "pysqldf = lambda q: sqldf(q, globals())\n",
    "\n",
    "q  = \"\"\"\n",
    "SELECT\n",
    "  t.Customer_ID\n",
    "  , u.name\n",
    "  , u.phone\n",
    "  , t.transaction_amount_float\n",
    "FROM\n",
    "  transactions_df t\n",
    "LEFT JOIN\n",
    "  prospective_users_df u\n",
    "ON t.Customer_ID = u.Customer_ID\n",
    "WHERE\n",
    "    t.transaction_date > '2014-12-31'\n",
    "\"\"\"\n",
    "\n",
    "#df = pysqldf(q)\n",
    "#df.head()"
   ]
  },
  {
   "cell_type": "code",
   "execution_count": 34,
   "metadata": {
    "collapsed": false
   },
   "outputs": [],
   "source": [
    "transactions_df.set_index('Customer_ID', inplace=True)\n",
    "prospective_users_df.set_index('Customer_ID', inplace=True)"
   ]
  },
  {
   "cell_type": "code",
   "execution_count": 35,
   "metadata": {
    "collapsed": false
   },
   "outputs": [
    {
     "data": {
      "text/html": [
       "<div>\n",
       "<table border=\"1\" class=\"dataframe\">\n",
       "  <thead>\n",
       "    <tr style=\"text-align: right;\">\n",
       "      <th></th>\n",
       "      <th>Customer_ID</th>\n",
       "      <th>transaction_amount</th>\n",
       "      <th>transaction_date</th>\n",
       "      <th>transaction_amount_float</th>\n",
       "      <th>name</th>\n",
       "      <th>emails</th>\n",
       "      <th>phone</th>\n",
       "    </tr>\n",
       "  </thead>\n",
       "  <tbody>\n",
       "    <tr>\n",
       "      <th>0</th>\n",
       "      <td>36547</td>\n",
       "      <td>$192.69</td>\n",
       "      <td>2015-07-16</td>\n",
       "      <td>192.69</td>\n",
       "      <td>Darien Ethel</td>\n",
       "      <td>darien.ethel@msn.com</td>\n",
       "      <td>[nan]</td>\n",
       "    </tr>\n",
       "    <tr>\n",
       "      <th>1</th>\n",
       "      <td>36547</td>\n",
       "      <td>$801.49</td>\n",
       "      <td>2015-12-18</td>\n",
       "      <td>801.49</td>\n",
       "      <td>Darien Ethel</td>\n",
       "      <td>darien.ethel@msn.com</td>\n",
       "      <td>[nan]</td>\n",
       "    </tr>\n",
       "    <tr>\n",
       "      <th>2</th>\n",
       "      <td>36547</td>\n",
       "      <td>$33.55</td>\n",
       "      <td>2015-11-12</td>\n",
       "      <td>33.55</td>\n",
       "      <td>Darien Ethel</td>\n",
       "      <td>darien.ethel@msn.com</td>\n",
       "      <td>[nan]</td>\n",
       "    </tr>\n",
       "    <tr>\n",
       "      <th>3</th>\n",
       "      <td>36547</td>\n",
       "      <td>$101.8</td>\n",
       "      <td>2014-09-08</td>\n",
       "      <td>101.80</td>\n",
       "      <td>Darien Ethel</td>\n",
       "      <td>darien.ethel@msn.com</td>\n",
       "      <td>[nan]</td>\n",
       "    </tr>\n",
       "    <tr>\n",
       "      <th>4</th>\n",
       "      <td>36547</td>\n",
       "      <td>$349.3</td>\n",
       "      <td>2014-02-02</td>\n",
       "      <td>349.30</td>\n",
       "      <td>Darien Ethel</td>\n",
       "      <td>darien.ethel@msn.com</td>\n",
       "      <td>[nan]</td>\n",
       "    </tr>\n",
       "  </tbody>\n",
       "</table>\n",
       "</div>"
      ],
      "text/plain": [
       "   Customer_ID transaction_amount transaction_date  transaction_amount_float  \\\n",
       "0        36547            $192.69       2015-07-16                    192.69   \n",
       "1        36547            $801.49       2015-12-18                    801.49   \n",
       "2        36547             $33.55       2015-11-12                     33.55   \n",
       "3        36547             $101.8       2014-09-08                    101.80   \n",
       "4        36547             $349.3       2014-02-02                    349.30   \n",
       "\n",
       "           name                emails  phone  \n",
       "0  Darien Ethel  darien.ethel@msn.com  [nan]  \n",
       "1  Darien Ethel  darien.ethel@msn.com  [nan]  \n",
       "2  Darien Ethel  darien.ethel@msn.com  [nan]  \n",
       "3  Darien Ethel  darien.ethel@msn.com  [nan]  \n",
       "4  Darien Ethel  darien.ethel@msn.com  [nan]  "
      ]
     },
     "execution_count": 35,
     "metadata": {},
     "output_type": "execute_result"
    }
   ],
   "source": [
    "candidates_df = transactions_df.join(prospective_users_df, how='inner')\n",
    "candidates_df = candidates_df.reset_index()\n",
    "candidates_df.head()"
   ]
  },
  {
   "cell_type": "markdown",
   "metadata": {},
   "source": [
    "Selecting users based on transaction amount for year 2015"
   ]
  },
  {
   "cell_type": "code",
   "execution_count": 36,
   "metadata": {
    "collapsed": false
   },
   "outputs": [
    {
     "data": {
      "text/html": [
       "<div>\n",
       "<table border=\"1\" class=\"dataframe\">\n",
       "  <thead>\n",
       "    <tr style=\"text-align: right;\">\n",
       "      <th></th>\n",
       "      <th>Customer_ID</th>\n",
       "      <th>transaction_amount</th>\n",
       "      <th>transaction_date</th>\n",
       "      <th>transaction_amount_float</th>\n",
       "      <th>name</th>\n",
       "      <th>emails</th>\n",
       "      <th>phone</th>\n",
       "    </tr>\n",
       "  </thead>\n",
       "  <tbody>\n",
       "    <tr>\n",
       "      <th>0</th>\n",
       "      <td>36547</td>\n",
       "      <td>$192.69</td>\n",
       "      <td>2015-07-16</td>\n",
       "      <td>192.69</td>\n",
       "      <td>Darien Ethel</td>\n",
       "      <td>darien.ethel@msn.com</td>\n",
       "      <td>[nan]</td>\n",
       "    </tr>\n",
       "    <tr>\n",
       "      <th>1</th>\n",
       "      <td>36547</td>\n",
       "      <td>$801.49</td>\n",
       "      <td>2015-12-18</td>\n",
       "      <td>801.49</td>\n",
       "      <td>Darien Ethel</td>\n",
       "      <td>darien.ethel@msn.com</td>\n",
       "      <td>[nan]</td>\n",
       "    </tr>\n",
       "    <tr>\n",
       "      <th>2</th>\n",
       "      <td>36547</td>\n",
       "      <td>$33.55</td>\n",
       "      <td>2015-11-12</td>\n",
       "      <td>33.55</td>\n",
       "      <td>Darien Ethel</td>\n",
       "      <td>darien.ethel@msn.com</td>\n",
       "      <td>[nan]</td>\n",
       "    </tr>\n",
       "    <tr>\n",
       "      <th>6</th>\n",
       "      <td>36547</td>\n",
       "      <td>$65.67</td>\n",
       "      <td>2015-06-19</td>\n",
       "      <td>65.67</td>\n",
       "      <td>Darien Ethel</td>\n",
       "      <td>darien.ethel@msn.com</td>\n",
       "      <td>[nan]</td>\n",
       "    </tr>\n",
       "    <tr>\n",
       "      <th>8</th>\n",
       "      <td>36547</td>\n",
       "      <td>$476.14</td>\n",
       "      <td>2015-07-23</td>\n",
       "      <td>476.14</td>\n",
       "      <td>Darien Ethel</td>\n",
       "      <td>darien.ethel@msn.com</td>\n",
       "      <td>[nan]</td>\n",
       "    </tr>\n",
       "  </tbody>\n",
       "</table>\n",
       "</div>"
      ],
      "text/plain": [
       "   Customer_ID transaction_amount transaction_date  transaction_amount_float  \\\n",
       "0        36547            $192.69       2015-07-16                    192.69   \n",
       "1        36547            $801.49       2015-12-18                    801.49   \n",
       "2        36547             $33.55       2015-11-12                     33.55   \n",
       "6        36547             $65.67       2015-06-19                     65.67   \n",
       "8        36547            $476.14       2015-07-23                    476.14   \n",
       "\n",
       "           name                emails  phone  \n",
       "0  Darien Ethel  darien.ethel@msn.com  [nan]  \n",
       "1  Darien Ethel  darien.ethel@msn.com  [nan]  \n",
       "2  Darien Ethel  darien.ethel@msn.com  [nan]  \n",
       "6  Darien Ethel  darien.ethel@msn.com  [nan]  \n",
       "8  Darien Ethel  darien.ethel@msn.com  [nan]  "
      ]
     },
     "execution_count": 36,
     "metadata": {},
     "output_type": "execute_result"
    }
   ],
   "source": [
    "transactions_2015_df = candidates_df[candidates_df.transaction_date > '2014-12-31']\n",
    "transactions_2015_df.head()"
   ]
  },
  {
   "cell_type": "code",
   "execution_count": 37,
   "metadata": {
    "collapsed": false
   },
   "outputs": [],
   "source": [
    "def calculate_total_transaction_amount(sub_dataframe_by_customer_id):\n",
    "    sub_dataframe_by_customer_id['total_transaction_amount'] = sub_dataframe_by_customer_id['transaction_amount'].\\\n",
    "                                                               apply(lambda price_str : float(price_str.strip('$'))).\\\n",
    "                                                               sum()\n",
    "    return sub_dataframe_by_customer_id\n",
    "\n",
    "total_transaction_amount_by_customer = transactions_2015_df[['Customer_ID', 'transaction_amount']].\\\n",
    "                                       groupby('Customer_ID').\\\n",
    "                                       apply(calculate_total_transaction_amount)"
   ]
  },
  {
   "cell_type": "code",
   "execution_count": 38,
   "metadata": {
    "collapsed": false
   },
   "outputs": [],
   "source": [
    "total_transaction_amount_by_customer = total_transaction_amount_by_customer[['Customer_ID', 'total_transaction_amount']].\\\n",
    "                                       groupby('Customer_ID').\\\n",
    "                                       mean()\n",
    "        \n",
    "total_transaction_given_customer_id = dict(zip(total_transaction_amount_by_customer.index,\n",
    "                                               total_transaction_amount_by_customer.total_transaction_amount.values))"
   ]
  },
  {
   "cell_type": "code",
   "execution_count": 39,
   "metadata": {
    "collapsed": false
   },
   "outputs": [
    {
     "name": "stderr",
     "output_type": "stream",
     "text": [
      "/home/kevin/anaconda/lib/python2.7/site-packages/IPython/kernel/__main__.py:1: SettingWithCopyWarning: \n",
      "A value is trying to be set on a copy of a slice from a DataFrame.\n",
      "Try using .loc[row_indexer,col_indexer] = value instead\n",
      "\n",
      "See the the caveats in the documentation: http://pandas.pydata.org/pandas-docs/stable/indexing.html#indexing-view-versus-copy\n",
      "  if __name__ == '__main__':\n"
     ]
    }
   ],
   "source": [
    "transactions_2015_df['total_transaction_amount'] = transactions_2015_df['Customer_ID'].\\\n",
    "                                                   apply(lambda cid : total_transaction_given_customer_id[cid])"
   ]
  },
  {
   "cell_type": "code",
   "execution_count": 42,
   "metadata": {
    "collapsed": false
   },
   "outputs": [
    {
     "name": "stderr",
     "output_type": "stream",
     "text": [
      "/home/kevin/anaconda/lib/python2.7/site-packages/IPython/kernel/__main__.py:1: SettingWithCopyWarning: \n",
      "A value is trying to be set on a copy of a slice from a DataFrame.\n",
      "Try using .loc[row_indexer,col_indexer] = value instead\n",
      "\n",
      "See the the caveats in the documentation: http://pandas.pydata.org/pandas-docs/stable/indexing.html#indexing-view-versus-copy\n",
      "  if __name__ == '__main__':\n"
     ]
    }
   ],
   "source": [
    "transactions_2015_df['phone'] = transactions_2015_df['phone'].apply(tuple)"
   ]
  },
  {
   "cell_type": "code",
   "execution_count": 137,
   "metadata": {
    "collapsed": false
   },
   "outputs": [],
   "source": [
    "result_df = transactions_2015_df[['Customer_ID', 'name', 'phone', 'total_transaction_amount']].drop_duplicates()"
   ]
  },
  {
   "cell_type": "code",
   "execution_count": 138,
   "metadata": {
    "collapsed": false
   },
   "outputs": [],
   "source": [
    "result_df.sort(['total_transaction_amount'],\n",
    "               ascending=False,\n",
    "               inplace=True)"
   ]
  },
  {
   "cell_type": "code",
   "execution_count": 139,
   "metadata": {
    "collapsed": false
   },
   "outputs": [],
   "source": [
    "TOP_N = 1000"
   ]
  },
  {
   "cell_type": "code",
   "execution_count": 140,
   "metadata": {
    "collapsed": false
   },
   "outputs": [],
   "source": [
    "result_df['phone'] = result_df['phone'].apply(lambda phone_number_list : str(list(phone_number_list)).strip('[]').replace(', ', ',').replace(\"'\",\"\"))\n",
    "result_df['total_transaction_amount'] = result_df['total_transaction_amount'].apply(lambda x : '$' + str(x))\n",
    "\n",
    "import numpy as np\n",
    "result_df = result_df.drop(result_df[result_df.phone.apply(lambda phone_list : 'nan' in phone_list)].index)"
   ]
  },
  {
   "cell_type": "code",
   "execution_count": 142,
   "metadata": {
    "collapsed": false
   },
   "outputs": [],
   "source": [
    "result_df[:TOP_N].to_csv('upsell/top1000_transactions_2015.csv',\n",
    "                         header=False,\n",
    "                         index=False,\n",
    "                         sep=';')"
   ]
  },
  {
   "cell_type": "code",
   "execution_count": 143,
   "metadata": {
    "collapsed": false
   },
   "outputs": [
    {
     "name": "stdout",
     "output_type": "stream",
     "text": [
      "1295065819;Bryanne Stopp;(217) 541-9868,(531) 246-6723;$15618.61\r\n",
      "987109832;Kaidence Guernsey;(592) 799-6134;$12863.54\r\n",
      "460093729;Hunter Craggs;(244) 021-2312;$12671.06\r\n",
      "563381140;Vardaan Prestwich;(012) 207-3502;$12560.74\r\n",
      "1471106934;Seeley Boak;(149) 211-1707;$12025.77\r\n",
      "1153503828;Vasily Georgii;(366) 412-3329;$11812.18\r\n",
      "1959653011;Angelisa Cummings;(185) 668-0124;$11559.2\r\n",
      "693794122;Credence Sherard;(453) 636-8177;$11410.21\r\n",
      "944173610;Denilson Peattie;(623) 477-3650;$11366.88\r\n",
      "707056747;Nasteha Bister;(016) 015-6096,(877) 013-4794;$11358.05\r\n",
      "2049030516;Kelbie Puppe;(089) 988-0109,(569) 457-0291;$11315.68\r\n",
      "317427146;Stevie Hooley;(181) 449-9765,(634) 039-1950;$11311.92\r\n",
      "104050028;Weatherly Shannon;(869) 359-2405,(517) 263-5875;$11311.41\r\n",
      "681405035;Brysten Jeffs;(184) 202-3346;$11310.42\r\n",
      "697077690;Rakyla Goode;(889) 863-5817,(308) 012-4466;$11296.85\r\n",
      "1438177405;Analaura Beetham;(668) 324-0222;$11244.02\r\n",
      "2014804806;Davida Notman;(956) 421-9300;$11217.17\r\n",
      "1954941481;Karsten Collinge;(466) 244-5295;$11149.72\r\n",
      "24340960;Akaria Langtry;(467) 021-8521,(716) 435-9115;$11131.5\r\n",
      "819593679;Sophialynn Ramsden;(492) 119-7626;$11114.31\r\n"
     ]
    }
   ],
   "source": [
    "!head -20 upsell/top1000_transactions_2015.csv"
   ]
  },
  {
   "cell_type": "code",
   "execution_count": null,
   "metadata": {
    "collapsed": true
   },
   "outputs": [],
   "source": []
  }
 ],
 "metadata": {
  "kernelspec": {
   "display_name": "Python 2",
   "language": "python",
   "name": "python2"
  },
  "language_info": {
   "codemirror_mode": {
    "name": "ipython",
    "version": 2
   },
   "file_extension": ".py",
   "mimetype": "text/x-python",
   "name": "python",
   "nbconvert_exporter": "python",
   "pygments_lexer": "ipython2",
   "version": "2.7.10"
  }
 },
 "nbformat": 4,
 "nbformat_minor": 0
}
