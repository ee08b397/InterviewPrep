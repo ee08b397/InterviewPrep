{
 "cells": [
  {
   "cell_type": "code",
   "execution_count": 21,
   "metadata": {
    "collapsed": true
   },
   "outputs": [],
   "source": [
    "def pascal(row_n=0, col_n=0):\n",
    "    cache = dict([])\n",
    "    \n",
    "    def pascal_recursive(row_n=0, col_n=0, cache=dict([])):\n",
    "        if row_n <= 0 or col_n <= 0 or row_n == col_n:\n",
    "            return 1\n",
    "        else:\n",
    "            if (row_n-1,col_n-1) not in cache:\n",
    "                left_parent = pascal_recursive(row_n-1, col_n-1) \n",
    "                cache[(row_n-1,col_n-1)] = left_parent\n",
    "            else:\n",
    "                left_parent = cache[(row_n-1,col_n-1)]\n",
    "            \n",
    "            if (row_n-1,col_n) not in cache:\n",
    "                right_parent = pascal_recursive(row_n-1, col_n)\n",
    "                cache[(row_n-1,col_n)] = right_parent\n",
    "            else:\n",
    "                right_parent = cache[(row_n-1,col_n)]\n",
    "                \n",
    "            return left_parent + right_parent\n",
    "    \n",
    "    return pascal_recursive(row_n, col_n)\n",
    "\n",
    "def pascal_n_levels(n):\n",
    "    for i in range(n):\n",
    "        row = []\n",
    "        \n",
    "        for j in range(n):\n",
    "            if j > i:\n",
    "                break\n",
    "            else:\n",
    "                row.append(pascal(i, j))\n",
    "        \n",
    "        print row"
   ]
  },
  {
   "cell_type": "code",
   "execution_count": 26,
   "metadata": {
    "collapsed": false
   },
   "outputs": [
    {
     "name": "stdout",
     "output_type": "stream",
     "text": [
      "[1]\n",
      "[1, 1]\n",
      "[1, 2, 1]\n",
      "[1, 3, 3, 1]\n",
      "[1, 4, 6, 4, 1]\n",
      "[1, 5, 10, 10, 5, 1]\n",
      "[1, 6, 15, 20, 15, 6, 1]\n",
      "[1, 7, 21, 35, 35, 21, 7, 1]\n",
      "[1, 8, 28, 56, 70, 56, 28, 8, 1]\n",
      "[1, 9, 36, 84, 126, 126, 84, 36, 9, 1]\n"
     ]
    }
   ],
   "source": [
    "pascal_n_levels(10)"
   ]
  },
  {
   "cell_type": "code",
   "execution_count": null,
   "metadata": {
    "collapsed": true
   },
   "outputs": [],
   "source": []
  }
 ],
 "metadata": {
  "kernelspec": {
   "display_name": "Python 2",
   "language": "python",
   "name": "python2"
  },
  "language_info": {
   "codemirror_mode": {
    "name": "ipython",
    "version": 2
   },
   "file_extension": ".py",
   "mimetype": "text/x-python",
   "name": "python",
   "nbconvert_exporter": "python",
   "pygments_lexer": "ipython2",
   "version": "2.7.10"
  }
 },
 "nbformat": 4,
 "nbformat_minor": 0
}
