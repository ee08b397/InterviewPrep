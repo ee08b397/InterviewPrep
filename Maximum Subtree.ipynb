{
 "cells": [
  {
   "cell_type": "markdown",
   "metadata": {},
   "source": [
    "https://leetcode.com/problems/binary-tree-maximum-path-sum/"
   ]
  },
  {
   "cell_type": "markdown",
   "metadata": {},
   "source": [
    "Find the maximum subtree of a tree. Every node has a value and you sum up all the nodes of a subtree. Normally it would be the root if numbers were all positive, but the max subtree might be a child if the values are negative."
   ]
  },
  {
   "cell_type": "code",
   "execution_count": 12,
   "metadata": {
    "collapsed": true
   },
   "outputs": [],
   "source": [
    "# Definition for a binary tree node.\n",
    "# class TreeNode(object):\n",
    "#     def __init__(self, x):\n",
    "#         self.val = x\n",
    "#         self.left = None\n",
    "#         self.right = None\n",
    "\n",
    "class Solution(object):\n",
    "    def maxPathSumAux(self, root, pathSums):\n",
    "        if not root:\n",
    "            return 0\n",
    "        elif not root.left and not root.right:\n",
    "            pathSums.append(root.val)\n",
    "            return root.val\n",
    "        elif not root.left:\n",
    "            rightSum = self.maxPathSumAux(root.right, pathSums)\n",
    "            pathSums.append(root.val)\n",
    "            pathSums.append(root.val+rightSum)\n",
    "            return max([root.val, rightSum + root.val])\n",
    "        elif not root.right:\n",
    "            leftSum = self.maxPathSumAux(root.left, pathSums)\n",
    "            pathSums.append(root.val)\n",
    "            pathSums.append(root.val+leftSum)\n",
    "            return max([root.val, leftSum + root.val])\n",
    "        else:\n",
    "            leftSum = self.maxPathSumAux(root.left, pathSums)\n",
    "            rightSum= self.maxPathSumAux(root.right, pathSums)\n",
    "            pathSums.append(root.val)\n",
    "            pathSums.append(root.val+leftSum)\n",
    "            pathSums.append(root.val+rightSum)\n",
    "            pathSums.append(root.val+leftSum+rightSum)\n",
    "            \n",
    "            return max([root.val, leftSum + root.val, rightSum + root.val, leftSum+rightSum+root.val])\n",
    "        \n",
    "    def maxPathSum(self, root):\n",
    "        \"\"\"\n",
    "        :type root: TreeNode\n",
    "        :rtype: int\n",
    "        \"\"\"\n",
    "        pathSums = []\n",
    "        self.maxPathSumAux(root, pathSums)\n",
    "        return max(pathSums)\n",
    "        \n",
    "    "
   ]
  },
  {
   "cell_type": "code",
   "execution_count": null,
   "metadata": {
    "collapsed": true
   },
   "outputs": [],
   "source": []
  },
  {
   "cell_type": "code",
   "execution_count": null,
   "metadata": {
    "collapsed": true
   },
   "outputs": [],
   "source": []
  }
 ],
 "metadata": {
  "kernelspec": {
   "display_name": "Python 2",
   "language": "python",
   "name": "python2"
  },
  "language_info": {
   "codemirror_mode": {
    "name": "ipython",
    "version": 2
   },
   "file_extension": ".py",
   "mimetype": "text/x-python",
   "name": "python",
   "nbconvert_exporter": "python",
   "pygments_lexer": "ipython2",
   "version": "2.7.10"
  }
 },
 "nbformat": 4,
 "nbformat_minor": 0
}
