{
 "cells": [
  {
   "cell_type": "markdown",
   "metadata": {},
   "source": [
    "$$\\begin{align}\n",
    "F_{n+2} &= F_{n+1} + F_{n} \\\\\n",
    "F_{n} &= F_{n-1} + F_{n-2} \\\\\n",
    "F_{n+2} &= F_{n+1} + F_{n} \\text{ (for negative Fibonacci numbers!)}\n",
    "\\end{align}$$"
   ]
  },
  {
   "cell_type": "markdown",
   "metadata": {},
   "source": [
    "### Recursive"
   ]
  },
  {
   "cell_type": "code",
   "execution_count": 2,
   "metadata": {
    "collapsed": true
   },
   "outputs": [],
   "source": [
    "def fibr(n):\n",
    "    \"\"\" recursive fibonacci implementation\n",
    "    \n",
    "    KW args --\n",
    "    \n",
    "    n: natural number\n",
    "    \"\"\"\n",
    "    \n",
    "    if n==0 or n==1:\n",
    "        return n\n",
    "    else:\n",
    "        return fibr(n-1) + fibr(n-2)"
   ]
  },
  {
   "cell_type": "markdown",
   "metadata": {},
   "source": [
    "### Benchit! with Generator function"
   ]
  },
  {
   "cell_type": "code",
   "execution_count": 12,
   "metadata": {
    "collapsed": true
   },
   "outputs": [],
   "source": [
    "def benchfib(fibfunc, N):\n",
    "    \"\"\" run a fibonacci function under a generator function for benchmark purposes\n",
    "    \n",
    "    KW args --\n",
    "    \n",
    "    fibfunc: a fibonacci function implementation that takes one argument\n",
    "    N: a natural number to say how many entries in the sequence to calculate (between 0 and N-1 inclusive)\n",
    "    \"\"\"\n",
    "    \n",
    "    for n in range(N):\n",
    "        yield fibfunc(n)"
   ]
  },
  {
   "cell_type": "code",
   "execution_count": 15,
   "metadata": {
    "collapsed": false
   },
   "outputs": [
    {
     "name": "stdout",
     "output_type": "stream",
     "text": [
      "CPU times: user 1.24 s, sys: 72 ms, total: 1.31 s\n",
      "Wall time: 1.37 s\n"
     ]
    }
   ],
   "source": [
    "N = int(1e6)\n",
    "%time results = benchfib(fibr, N)"
   ]
  },
  {
   "cell_type": "markdown",
   "metadata": {},
   "source": [
    "###Recursive w/ Memoization"
   ]
  },
  {
   "cell_type": "code",
   "execution_count": 11,
   "metadata": {
    "collapsed": true
   },
   "outputs": [],
   "source": [
    "def fibr_with_memoization(n):\n",
    "    mem = {}\n",
    "    \n",
    "    def fibr(n):\n",
    "        if n in mem:\n",
    "            return mem[n]\n",
    "        elif n==0 or n==1:\n",
    "            mem[n] = n\n",
    "            return n\n",
    "        else:\n",
    "            f0 = fibr(n-2)\n",
    "            f1 = fibr(n-1)\n",
    "            fn = f0 + f1\n",
    "            \n",
    "            if fn not in mem:\n",
    "                mem[n] = fn\n",
    "            \n",
    "            return fn\n",
    "        \n",
    "    return fibr(n)"
   ]
  },
  {
   "cell_type": "code",
   "execution_count": 16,
   "metadata": {
    "collapsed": false
   },
   "outputs": [
    {
     "name": "stdout",
     "output_type": "stream",
     "text": [
      "CPU times: user 0 ns, sys: 0 ns, total: 0 ns\n",
      "Wall time: 87 µs\n"
     ]
    }
   ],
   "source": [
    "%time results = benchfib(fibr_with_memoization, N)"
   ]
  },
  {
   "cell_type": "markdown",
   "metadata": {},
   "source": [
    "### Iterative"
   ]
  },
  {
   "cell_type": "code",
   "execution_count": 17,
   "metadata": {
    "collapsed": true
   },
   "outputs": [],
   "source": [
    "def fibit(n):\n",
    "    \"\"\" an iterative implementation of fibonacci\n",
    "    \n",
    "    KW args --\n",
    "    n: a natural number\n",
    "    \"\"\"\n",
    "    \n",
    "    if n==0 or n==1:\n",
    "        return n\n",
    "    else:\n",
    "        f0 = 0\n",
    "        f1 = 1\n",
    "        f2 = None\n",
    "        \n",
    "        for _ in range(n-1):\n",
    "            f2 = f0 + f1\n",
    "            f0 = f1\n",
    "            f1 = f2\n",
    "        return f2"
   ]
  },
  {
   "cell_type": "code",
   "execution_count": 20,
   "metadata": {
    "collapsed": false
   },
   "outputs": [
    {
     "name": "stdout",
     "output_type": "stream",
     "text": [
      "CPU times: user 0 ns, sys: 0 ns, total: 0 ns\n",
      "Wall time: 76.1 µs\n"
     ]
    }
   ],
   "source": [
    "%time results = benchfib(fibit, N)"
   ]
  },
  {
   "cell_type": "markdown",
   "metadata": {},
   "source": [
    "### Closed Form Equation"
   ]
  },
  {
   "cell_type": "markdown",
   "metadata": {},
   "source": [
    "$F_n = { 1 \\over \\sqrt{5} } \\cdot ( \\phi^n - \\tau^n ) \\\\\n",
    " \\textrm { where } n \\in \\mathbb{Z}_{\\geq 0}  \\\\\n",
    " \\textrm{ and } \\begin{cases} \\phi = {{1 + \\sqrt{5}}\\over2} \\\\ \\tau = {{1 - \\sqrt{5}}\\over2} \\end{cases}\n",
    "$"
   ]
  },
  {
   "cell_type": "code",
   "execution_count": 21,
   "metadata": {
    "collapsed": true
   },
   "outputs": [],
   "source": [
    "import math\n",
    "\n",
    "def fib_binet(n):\n",
    "    \"\"\" a closed form implementation of fibonacci\n",
    "    \n",
    "    KW args --\n",
    "    n: a natural number\n",
    "    \"\"\"\n",
    "    rt5 = math.sqrt(5)\n",
    "    phi = (1+rt5)/2.0\n",
    "    tau = (1-rt5)/2.0\n",
    "    \n",
    "    return int( (1/rt5)*(phi**n-tau**n) )"
   ]
  },
  {
   "cell_type": "code",
   "execution_count": 25,
   "metadata": {
    "collapsed": false
   },
   "outputs": [
    {
     "data": {
      "text/plain": [
       "7778742049"
      ]
     },
     "execution_count": 25,
     "metadata": {},
     "output_type": "execute_result"
    }
   ],
   "source": [
    "map(fib_binet, range(50))[-1]"
   ]
  },
  {
   "cell_type": "code",
   "execution_count": 27,
   "metadata": {
    "collapsed": false
   },
   "outputs": [
    {
     "data": {
      "text/plain": [
       "[-54, 33, -20, 12, -7, 4, -2, 1, 0, 0, 0, 1, 1, 2, 3, 5, 8, 13, 21, 34]"
      ]
     },
     "execution_count": 27,
     "metadata": {},
     "output_type": "execute_result"
    }
   ],
   "source": [
    "map(fib_binet, range(-10, 10))"
   ]
  },
  {
   "cell_type": "code",
   "execution_count": 26,
   "metadata": {
    "collapsed": false
   },
   "outputs": [
    {
     "name": "stdout",
     "output_type": "stream",
     "text": [
      "CPU times: user 0 ns, sys: 0 ns, total: 0 ns\n",
      "Wall time: 117 µs\n"
     ]
    }
   ],
   "source": [
    "%time results = benchfib(fib_binet, N)"
   ]
  }
 ],
 "metadata": {
  "kernelspec": {
   "display_name": "Python 2",
   "language": "python",
   "name": "python2"
  },
  "language_info": {
   "codemirror_mode": {
    "name": "ipython",
    "version": 2
   },
   "file_extension": ".py",
   "mimetype": "text/x-python",
   "name": "python",
   "nbconvert_exporter": "python",
   "pygments_lexer": "ipython2",
   "version": "2.7.10"
  }
 },
 "nbformat": 4,
 "nbformat_minor": 0
}
