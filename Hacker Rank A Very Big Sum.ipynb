{
 "cells": [
  {
   "cell_type": "code",
   "execution_count": null,
   "metadata": {
    "collapsed": true
   },
   "outputs": [],
   "source": [
    "from IPython.Display import HTML"
   ]
  },
  {
   "cell_type": "code",
   "execution_count": null,
   "metadata": {
    "collapsed": false
   },
   "outputs": [],
   "source": [
    "#!/bin/python\n",
    "import sys\n",
    "\n",
    "\n",
    "n = int(raw_input().strip())\n",
    "arr = map(int,raw_input().strip().split(' '))\n",
    "\n",
    "if n==1:\n",
    "    print arr[0]\n",
    "else:\n",
    "    def charlist_to_str(charlist):\n",
    "        return ''.join(charlist)\n",
    "    \n",
    "    def add(int_as_str1, int_as_str2):\n",
    "        carry = 0\n",
    "        sum_ = ''\n",
    "        \n",
    "        for (digit1, digit2) in reversed(zip(list(int_as_str1), list(int_as_str2))):\n",
    "            s = int(digit1) + int(digit2) + carry\n",
    "            carry = s/10\n",
    "            sum_ += str(s%10)\n",
    "        \n",
    "        if carry:\n",
    "            sum_ += '1'\n",
    "        \n",
    "        return charlist_to_str(reversed(sum_))\n",
    "    \n",
    "    sum = str(arr[0])\n",
    "    \n",
    "    for i in range(1, n):\n",
    "        sum = add(sum, str(arr[i]))\n",
    "        \n",
    "    print sum"
   ]
  },
  {
   "cell_type": "code",
   "execution_count": null,
   "metadata": {
    "collapsed": true
   },
   "outputs": [],
   "source": []
  }
 ],
 "metadata": {
  "kernelspec": {
   "display_name": "Python 2",
   "language": "python",
   "name": "python2"
  },
  "language_info": {
   "codemirror_mode": {
    "name": "ipython",
    "version": 2
   },
   "file_extension": ".py",
   "mimetype": "text/x-python",
   "name": "python",
   "nbconvert_exporter": "python",
   "pygments_lexer": "ipython2",
   "version": "2.7.10"
  }
 },
 "nbformat": 4,
 "nbformat_minor": 0
}
