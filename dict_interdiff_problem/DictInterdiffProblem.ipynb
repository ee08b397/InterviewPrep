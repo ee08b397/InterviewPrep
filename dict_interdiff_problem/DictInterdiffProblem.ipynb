{
 "cells": [
  {
   "cell_type": "code",
   "execution_count": 1,
   "metadata": {
    "collapsed": true
   },
   "outputs": [],
   "source": [
    "from IPython.display import HTML"
   ]
  },
  {
   "cell_type": "code",
   "execution_count": 5,
   "metadata": {
    "collapsed": false
   },
   "outputs": [
    {
     "data": {
      "text/html": [
       "<iframe src=\"problem_statement.html\" width=1200 height=1000></iframe"
      ],
      "text/plain": [
       "<IPython.core.display.HTML object>"
      ]
     },
     "execution_count": 5,
     "metadata": {},
     "output_type": "execute_result"
    }
   ],
   "source": [
    "PROBLEM_FILENAME = 'problem_statement.html'\n",
    "HTML('<iframe src=\"{0}\" width=1200 height=1000></iframe'.format(PROBLEM_FILENAME))"
   ]
  },
  {
   "cell_type": "markdown",
   "metadata": {},
   "source": [
    "Idea"
   ]
  },
  {
   "cell_type": "code",
   "execution_count": 7,
   "metadata": {
    "collapsed": false
   },
   "outputs": [
    {
     "data": {
      "text/html": [
       "<iframe src=\"https://en.wikipedia.org/wiki/Symmetric_difference\" width=1100 height=300></iframe>"
      ],
      "text/plain": [
       "<IPython.core.display.HTML object>"
      ]
     },
     "execution_count": 7,
     "metadata": {},
     "output_type": "execute_result"
    }
   ],
   "source": [
    "WIKIPEDIA_SYMMETRIC_DIFFERENCE_URL = 'https://en.wikipedia.org/wiki/Symmetric_difference'\n",
    "HTML('<iframe src=\"{0}\" width=1100 height=300></iframe>'.format(WIKIPEDIA_SYMMETRIC_DIFFERENCE_URL))"
   ]
  },
  {
   "cell_type": "markdown",
   "metadata": {},
   "source": [
    "Implementation"
   ]
  },
  {
   "cell_type": "code",
   "execution_count": 8,
   "metadata": {
    "collapsed": true
   },
   "outputs": [],
   "source": [
    "def dict_interdiff(d1, d2):\n",
    "    inter = {}\n",
    "    diff = {}\n",
    "    \n",
    "    # intersection between d1 and d2\n",
    "    common_keys = set(d1.keys()) & set(d2.keys())\n",
    "    for k in common_keys:\n",
    "        inter[k] = f(d1[k], d2[k])\n",
    "    \n",
    "    # symmetric difference between d1 and d2\n",
    "    distinct_keys=(set(d1.keys()) | set(d2.keys())) - common_keys\n",
    "    for k in distinct_keys:\n",
    "        if k in d1:\n",
    "            diff[k] = d1[k]\n",
    "        else:\n",
    "            diff[k] = d2[k]\n",
    "            \n",
    "    return (inter, diff)"
   ]
  },
  {
   "cell_type": "markdown",
   "metadata": {},
   "source": [
    "Testing"
   ]
  },
  {
   "cell_type": "code",
   "execution_count": 13,
   "metadata": {
    "collapsed": false
   },
   "outputs": [
    {
     "name": "stdout",
     "output_type": "stream",
     "text": [
      "({1: 70, 2: 70, 3: 90}, {4: 70, 5: 80, 6: 90}) passed test #1\n",
      "({1: False, 2: False, 3: False}, {}) passed test #2\n",
      "({1: True}, {}) passed test #3\n",
      "({1: 2, 2: 4, 3: 6}, {}) passed test #4\n",
      "({4: 9}, {1: 1, 2: 2, 3: 3, 5: 3, 6: 3, 8: 4, 9: 1, 10: 0})\n",
      "({1: 1, 2: 4, 3: 9}, {}) passed test #5\n",
      "({1: 0, 2: 0, 3: 0}, {}) passed test #6\n"
     ]
    }
   ],
   "source": [
    "def f(a, b):\n",
    "    return a + b\n",
    "\n",
    "d1 = {1:30, 2:20, 3:30, 5:80}\n",
    "d2 = {1:40, 2:50, 3:60, 4:70, 6:90}\n",
    "\n",
    "assert dict_interdiff(d1, d2) == ({1: 70, 2: 70, 3: 90}, {4: 70, 5: 80, 6: 90})\n",
    "print dict_interdiff(d1, d2), \"passed test #1\" \n",
    "\n",
    "def f(a, b):\n",
    "    return a > b\n",
    "\n",
    "d1 = {1:30, 2:20, 3:30}\n",
    "d2 = {1:40, 2:50, 3:60}\n",
    "\n",
    "assert dict_interdiff(d1, d2) == ({1: False, 2: False, 3: False}, {})\n",
    "print dict_interdiff(d1, d2), \"passed test #2\"\n",
    "\n",
    "def f(a, b):\n",
    "    return a==b\n",
    "\n",
    "d1 = {1: 1}\n",
    "d2 = {1: 1}\n",
    "assert dict_interdiff(d1, d2) == ({1: True}, {})\n",
    "print dict_interdiff(d1, d2), \"passed test #3\"\n",
    "\n",
    "def f(a, b):\n",
    "    return a + b\n",
    "\n",
    "d1 = {1: 1, 2: 2, 3: 3}\n",
    "d2 = {1: 1, 2: 2, 3: 3}\n",
    "assert dict_interdiff(d1, d2) == ({1: 2, 2: 4, 3: 6}, {})\n",
    "print dict_interdiff(d1, d2), \"passed test #4\"\n",
    "\n",
    "d3 = {4: 4, 5: 3, 6: 3, 8: 4, 9: 1, 10: 0}\n",
    "d4 = {1: 1, 2: 2, 3: 3, 4: 5}\n",
    "assert dict_interdiff(d3, d4) == ({4: 9}, {1: 1, 2: 2, 3: 3, 5: 3, 6: 3, 8: 4, 9: 1, 10: 0})\n",
    "print dict_interdiff(d3, d4)\n",
    "\n",
    "def f(a, b):\n",
    "    return a * b\n",
    "\n",
    "d5 = {1: 1, 2: 0, 3: 0, 4: 0, 6: 0, 7: 0}\n",
    "d6 = {0: 1, 1: 0, 2: 0, 3: 0, 4: 0, 5: 0}\n",
    "assert dict_interdiff(d5, d6) == ({1: 0, 2: 0, 3: 0, 4: 0}, {0: 1, 5: 0, 6: 0, 7: 0})\n",
    "print dict_interdiff(d1, d2), \"passed test #5\"\n",
    "\n",
    "def f(a, b):\n",
    "    return a - b\n",
    "\n",
    "d7 = {1: 1, 2: 2, 3: 3}\n",
    "d8 = {1: 1, 2: 2, 3: 3}\n",
    "\n",
    "assert dict_interdiff(d7, d8) == ({1: 0, 2: 0, 3: 0}, {})\n",
    "print dict_interdiff(d7, d8), \"passed test #6\""
   ]
  },
  {
   "cell_type": "code",
   "execution_count": null,
   "metadata": {
    "collapsed": true
   },
   "outputs": [],
   "source": []
  }
 ],
 "metadata": {
  "kernelspec": {
   "display_name": "Python 2",
   "language": "python",
   "name": "python2"
  },
  "language_info": {
   "codemirror_mode": {
    "name": "ipython",
    "version": 2
   },
   "file_extension": ".py",
   "mimetype": "text/x-python",
   "name": "python",
   "nbconvert_exporter": "python",
   "pygments_lexer": "ipython2",
   "version": "2.7.11"
  }
 },
 "nbformat": 4,
 "nbformat_minor": 0
}
