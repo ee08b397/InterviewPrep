{
 "cells": [
  {
   "cell_type": "code",
   "execution_count": 4,
   "metadata": {
    "collapsed": true
   },
   "outputs": [],
   "source": [
    "import numpy as np"
   ]
  },
  {
   "cell_type": "code",
   "execution_count": 50,
   "metadata": {
    "collapsed": true
   },
   "outputs": [],
   "source": [
    "np.random.seed(0)"
   ]
  },
  {
   "cell_type": "code",
   "execution_count": 51,
   "metadata": {
    "collapsed": false
   },
   "outputs": [
    {
     "data": {
      "text/plain": [
       "[array([335]),\n",
       " array([-141, -491,  223, -223]),\n",
       " array([  99, -430,  -28,  100, -104, -186,  205,  -14,   51, -413, -326,\n",
       "         100,  349,  177,   37,  345, -428,  277,  416, -385,  476,  255,\n",
       "         209,  347,  -69,  -52,  350, -401,  484, -323,  255,  297,  159,\n",
       "        -353,  410,  -77, -212]),\n",
       " array([-235,  197]),\n",
       " array([  43,  214, -256, -349,  175,   10,  -41,  382, -317, -472,  302,\n",
       "        -372, -372,  432, -447,  401,   50,  -12,  256, -227, -165, -112,\n",
       "         117, -458,  -58,   43,  388, -243, -179,  499,  437, -443, -209]),\n",
       " array([-381,  279,  -70, -418, -409,  396, -102,  111,   65,  408,  133,\n",
       "         438, -416, -297, -176,  274,  464, -453,  139, -369,  472,  368,\n",
       "        -320,  346, -357,  160, -273,  454,  291,  219,  409, -127,  353,\n",
       "          60, -195,   81, -331,  175,  -52]),\n",
       " array([-303,  106, -244,  381,  190, -208,  430,  316,  361, -113,  110,\n",
       "          54,  473, -132,  499,  417, -299, -117,   12,  406, -130,   55,\n",
       "         454, -117, -477,  199, -370, -123, -402,   74,  431,  234]),\n",
       " array([  94,  442,  239, -352]),\n",
       " array([  62,  -89,  282, -459, -442,  205, -464,  278, -414, -457,  372,\n",
       "        -489,  270, -193, -420, -468, -318, -372]),\n",
       " array([-225, -326,   54, -129, -316,  -56,  -12,   89, -214, -220,  137,\n",
       "         270,   15, -406, -274,  375, -231,  380, -204, -172, -481,  107,\n",
       "         340,  -90,  -50, -252, -320, -177,  329,  282,  364, -240,  463,\n",
       "         249, -361,   98,  -39,  389,  121]),\n",
       " [3, 5, 7, 1, 4, 9],\n",
       " [1, 9, 3, 5]]"
      ]
     },
     "execution_count": 51,
     "metadata": {},
     "output_type": "execute_result"
    }
   ],
   "source": [
    "N = 10\n",
    "\n",
    "def generateTestValues(n):\n",
    "    testvalues = [np.random.randint(-500, 500, size=np.random.randint(1,42)) for _ in range(n)]\n",
    "    return testvalues\n",
    "\n",
    "testvalues = generateTestValues(N)\n",
    "testvalues.append([3,5,7,1,4,9])\n",
    "testvalues.append([1, 9, 3, 5])\n",
    "testvalues"
   ]
  },
  {
   "cell_type": "markdown",
   "metadata": {},
   "source": [
    "### Bruteforce Solution"
   ]
  },
  {
   "cell_type": "code",
   "execution_count": 52,
   "metadata": {
    "collapsed": true
   },
   "outputs": [],
   "source": [
    "def maxProfit(prices):\n",
    "    n = len(prices)\n",
    "    return max([prices[j] - prices[i] for i in range(n) for j in range(n) if i <= j])"
   ]
  },
  {
   "cell_type": "code",
   "execution_count": 53,
   "metadata": {
    "collapsed": false
   },
   "outputs": [
    {
     "data": {
      "text/plain": [
       "[0, 714, 914, 432, 971, 925, 908, 348, 836, 944, 8, 8]"
      ]
     },
     "execution_count": 53,
     "metadata": {},
     "output_type": "execute_result"
    }
   ],
   "source": [
    "bruteforce_solutions = map(maxProfit, testvalues)\n",
    "bruteforce_solutions"
   ]
  },
  {
   "cell_type": "markdown",
   "metadata": {},
   "source": [
    "### LinearTime/Dynamic Programming Solution"
   ]
  },
  {
   "cell_type": "markdown",
   "metadata": {},
   "source": [
    "`[3,5,7,1,4,9] -> 8`\n",
    "\n",
    "`[1, 9, 3, 5] -> 8`"
   ]
  },
  {
   "cell_type": "code",
   "execution_count": 54,
   "metadata": {
    "collapsed": true
   },
   "outputs": [],
   "source": [
    "def maxProfit(prices):\n",
    "    if len(prices) == 0:\n",
    "        return 0, None\n",
    "    elif len(prices)==1:\n",
    "        return 0, prices[0]\n",
    "    else:\n",
    "        maxDiff, maxSellPrice = maxProfit(prices[1:])\n",
    "\n",
    "        if maxSellPrice - prices[0] > maxDiff:\n",
    "            maxDiff = maxSellPrice - prices[0]\n",
    "        if prices[0] > maxSellPrice:\n",
    "            maxSellPrice = prices[0]\n",
    "            \n",
    "        return maxDiff, maxSellPrice"
   ]
  },
  {
   "cell_type": "code",
   "execution_count": 18,
   "metadata": {
    "collapsed": true
   },
   "outputs": [],
   "source": [
    "def maxProfitTail(prices, maxDiff=0, minBuyPrice=None):\n",
    "    if len(prices) == 0:\n",
    "        return maxDiff, minBuyPrice\n",
    "    else:\n",
    "        if not minBuyPrice:\n",
    "            minBuyPrice = prices[0]\n",
    "            \n",
    "        return maxProfitTail(prices[1:],\n",
    "                             max([maxDiff, prices[0]-minBuyPrice]),\n",
    "                             min([minBuyPrice, prices[0]]))"
   ]
  },
  {
   "cell_type": "markdown",
   "metadata": {},
   "source": [
    "`[3,5,7,1,4,9] -> 8`"
   ]
  },
  {
   "cell_type": "code",
   "execution_count": 55,
   "metadata": {
    "collapsed": false
   },
   "outputs": [
    {
     "data": {
      "text/plain": [
       "[(0, 335),\n",
       " (714, 223),\n",
       " (914, 484),\n",
       " (432, 197),\n",
       " (971, 499),\n",
       " (925, 472),\n",
       " (908, 499),\n",
       " (348, 442),\n",
       " (836, 372),\n",
       " (944, 463),\n",
       " (8, 9),\n",
       " (8, 9)]"
      ]
     },
     "execution_count": 55,
     "metadata": {},
     "output_type": "execute_result"
    }
   ],
   "source": [
    "dp_solutions = map(maxProfit, testvalues)\n",
    "dp_solutions"
   ]
  },
  {
   "cell_type": "code",
   "execution_count": 56,
   "metadata": {
    "collapsed": false
   },
   "outputs": [],
   "source": [
    "import operator\n",
    "dp_solutions = map(operator.itemgetter(0), dp_solutions)\n",
    "assert dp_solutions == bruteforce_solutions"
   ]
  },
  {
   "cell_type": "markdown",
   "metadata": {},
   "source": [
    "### Iterative"
   ]
  },
  {
   "cell_type": "code",
   "execution_count": 1,
   "metadata": {
    "collapsed": true
   },
   "outputs": [],
   "source": [
    "def maxProfitIterative(prices):\n",
    "    minBuyPrice = None\n",
    "    maxDiff = 0\n",
    "    \n",
    "    for x in prices:\n",
    "        if minBuyPrice is None:\n",
    "            minBuyPrice = x\n",
    "\n",
    "        maxDiff = max([maxDiff, x - minBuyPrice])\n",
    "        minBuyPrice = min([minBuyPrice, x])\n",
    "            \n",
    "    return maxDiff, minBuyPrice"
   ]
  },
  {
   "cell_type": "code",
   "execution_count": 90,
   "metadata": {
    "collapsed": true
   },
   "outputs": [],
   "source": [
    "testvalues.append([2,1,2,1,0,1,2])"
   ]
  },
  {
   "cell_type": "code",
   "execution_count": 106,
   "metadata": {
    "collapsed": false
   },
   "outputs": [
    {
     "data": {
      "text/plain": [
       "[(0, 335),\n",
       " (714, -491),\n",
       " (914, -430),\n",
       " (432, -235),\n",
       " (971, -472),\n",
       " (925, -453),\n",
       " (908, -477),\n",
       " (348, -352),\n",
       " (836, -489),\n",
       " (944, -481),\n",
       " (8, 1),\n",
       " (8, 1),\n",
       " (2, 0)]"
      ]
     },
     "execution_count": 106,
     "metadata": {},
     "output_type": "execute_result"
    }
   ],
   "source": [
    "itr_solutions = map(maxProfitIterative, testvalues)\n",
    "itr_solutions "
   ]
  },
  {
   "cell_type": "markdown",
   "metadata": {},
   "source": [
    "### Benchmark Bigger *N* values"
   ]
  },
  {
   "cell_type": "code",
   "execution_count": 16,
   "metadata": {
    "collapsed": false
   },
   "outputs": [],
   "source": [
    "N = [10**i for i in range(1, 6)]\n",
    "np.random.seed(0)   "
   ]
  },
  {
   "cell_type": "code",
   "execution_count": 17,
   "metadata": {
    "collapsed": false,
    "scrolled": true
   },
   "outputs": [
    {
     "name": "stdout",
     "output_type": "stream",
     "text": [
      "n = 10^10\n",
      "CPU times: user 4 ms, sys: 0 ns, total: 4 ms\n",
      "Wall time: 329 µs\n",
      "n = 10^100\n",
      "CPU times: user 4 ms, sys: 0 ns, total: 4 ms\n",
      "Wall time: 1.66 ms\n",
      "n = 10^1000\n",
      "CPU times: user 16 ms, sys: 0 ns, total: 16 ms\n",
      "Wall time: 14.2 ms\n",
      "n = 10^10000\n",
      "CPU times: user 80 ms, sys: 0 ns, total: 80 ms\n",
      "Wall time: 99.4 ms\n",
      "n = 10^100000\n",
      "CPU times: user 268 ms, sys: 0 ns, total: 268 ms\n",
      "Wall time: 276 ms\n"
     ]
    }
   ],
   "source": [
    "for n in N:\n",
    "    testvalues = np.random.randint(-500, 500, size=n)\n",
    "    print \"n = 10^{0}\".format(n)\n",
    "    %time maxProfitIterative(testvalues)"
   ]
  },
  {
   "cell_type": "markdown",
   "metadata": {
    "collapsed": true
   },
   "source": [
    "##### Runtime Error encountered when benchmarking recursive variation"
   ]
  },
  {
   "cell_type": "code",
   "execution_count": null,
   "metadata": {
    "collapsed": true
   },
   "outputs": [],
   "source": []
  }
 ],
 "metadata": {
  "kernelspec": {
   "display_name": "Python 2",
   "language": "python",
   "name": "python2"
  },
  "language_info": {
   "codemirror_mode": {
    "name": "ipython",
    "version": 2
   },
   "file_extension": ".py",
   "mimetype": "text/x-python",
   "name": "python",
   "nbconvert_exporter": "python",
   "pygments_lexer": "ipython2",
   "version": "2.7.10"
  }
 },
 "nbformat": 4,
 "nbformat_minor": 0
}
